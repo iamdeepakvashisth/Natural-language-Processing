{
  "nbformat": 4,
  "nbformat_minor": 0,
  "metadata": {
    "colab": {
      "name": "preProcessingForNLP2.ipynb",
      "provenance": [],
      "authorship_tag": "ABX9TyOnCHAh0yKY2tZ6jvP8s0EI",
      "include_colab_link": true
    },
    "kernelspec": {
      "name": "python3",
      "display_name": "Python 3"
    },
    "language_info": {
      "name": "python"
    },
    "accelerator": "GPU"
  },
  "cells": [
    {
      "cell_type": "markdown",
      "metadata": {
        "id": "view-in-github",
        "colab_type": "text"
      },
      "source": [
        "<a href=\"https://colab.research.google.com/github/iamdeepakvashisth/Natural-language-Processing/blob/main/NLP_with_Transformers/preProcessingForNLP2.ipynb\" target=\"_parent\"><img src=\"https://colab.research.google.com/assets/colab-badge.svg\" alt=\"Open In Colab\"/></a>"
      ]
    },
    {
      "cell_type": "markdown",
      "metadata": {
        "id": "HYmySOYnwlJS"
      },
      "source": [
        "**Canonical Equivalence**"
      ]
    },
    {
      "cell_type": "code",
      "metadata": {
        "colab": {
          "base_uri": "https://localhost:8080/"
        },
        "id": "Bari2701wUN_",
        "outputId": "02f3b540-42fe-4931-da02-9db266fbb719"
      },
      "source": [
        "\"Ç\"==\"C\""
      ],
      "execution_count": 2,
      "outputs": [
        {
          "output_type": "execute_result",
          "data": {
            "text/plain": [
              "False"
            ]
          },
          "metadata": {},
          "execution_count": 2
        }
      ]
    },
    {
      "cell_type": "code",
      "metadata": {
        "colab": {
          "base_uri": "https://localhost:8080/"
        },
        "id": "3n7Z1slKyFR0",
        "outputId": "3d683273-b143-448b-dafb-dec230f71dc9"
      },
      "source": [
        "\"Ç\"==\"Ç\" #first C is \"\\u00C7\" and second C is \"\\u0043\\u0327\""
      ],
      "execution_count": 18,
      "outputs": [
        {
          "output_type": "execute_result",
          "data": {
            "text/plain": [
              "False"
            ]
          },
          "metadata": {},
          "execution_count": 18
        }
      ]
    },
    {
      "cell_type": "code",
      "metadata": {
        "colab": {
          "base_uri": "https://localhost:8080/"
        },
        "id": "onqVcFZcwtEs",
        "outputId": "4ac4f0e1-b7ef-42dd-abb9-adbe02085254"
      },
      "source": [
        "\"Ç\"==\"\\u00C7\""
      ],
      "execution_count": 19,
      "outputs": [
        {
          "output_type": "execute_result",
          "data": {
            "text/plain": [
              "True"
            ]
          },
          "metadata": {},
          "execution_count": 19
        }
      ]
    },
    {
      "cell_type": "code",
      "metadata": {
        "colab": {
          "base_uri": "https://localhost:8080/"
        },
        "id": "ZONwoJWEw1Km",
        "outputId": "afe50479-bdc3-431c-bc6f-d1ffdb388c68"
      },
      "source": [
        "\"\\u00C7\"==\"Ç\""
      ],
      "execution_count": 20,
      "outputs": [
        {
          "output_type": "execute_result",
          "data": {
            "text/plain": [
              "True"
            ]
          },
          "metadata": {},
          "execution_count": 20
        }
      ]
    },
    {
      "cell_type": "code",
      "metadata": {
        "colab": {
          "base_uri": "https://localhost:8080/"
        },
        "id": "6AFPjt4Cw6dZ",
        "outputId": "bdd07a4a-d76e-4e08-ac97-521546aaf91c"
      },
      "source": [
        "\"\\u0043\\u0327\" == \"Ç\""
      ],
      "execution_count": 21,
      "outputs": [
        {
          "output_type": "execute_result",
          "data": {
            "text/plain": [
              "True"
            ]
          },
          "metadata": {},
          "execution_count": 21
        }
      ]
    },
    {
      "cell_type": "code",
      "metadata": {
        "colab": {
          "base_uri": "https://localhost:8080/"
        },
        "id": "e_l7DeqhxOV3",
        "outputId": "1725730e-c8fe-43c4-bb8c-10fa266f79ba"
      },
      "source": [
        "\"Ç\"==\"\\u0043\\u0327\""
      ],
      "execution_count": 22,
      "outputs": [
        {
          "output_type": "execute_result",
          "data": {
            "text/plain": [
              "False"
            ]
          },
          "metadata": {},
          "execution_count": 22
        }
      ]
    },
    {
      "cell_type": "code",
      "metadata": {
        "colab": {
          "base_uri": "https://localhost:8080/"
        },
        "id": "e79gtpTkxhCT",
        "outputId": "c2063cee-c6ee-44cc-faa5-e0c392d988d0"
      },
      "source": [
        "print(\"Ç\",\"\\u0043\")"
      ],
      "execution_count": 23,
      "outputs": [
        {
          "output_type": "stream",
          "name": "stdout",
          "text": [
            "Ç C\n"
          ]
        }
      ]
    },
    {
      "cell_type": "code",
      "metadata": {
        "colab": {
          "base_uri": "https://localhost:8080/"
        },
        "id": "SKemCwWNxkKx",
        "outputId": "ab4a2f44-b983-4a17-b5ae-576584bbc748"
      },
      "source": [
        "print(\"Ç\",\"\\u0327\")"
      ],
      "execution_count": 24,
      "outputs": [
        {
          "output_type": "stream",
          "name": "stdout",
          "text": [
            "Ç ̧\n"
          ]
        }
      ]
    },
    {
      "cell_type": "code",
      "metadata": {
        "colab": {
          "base_uri": "https://localhost:8080/"
        },
        "id": "eqYmsuaDxrFe",
        "outputId": "f2de2abf-5e4e-43c0-e97a-6322cc262dbc"
      },
      "source": [
        "print(\"Ç\",\"\\u0043\\u0327\")"
      ],
      "execution_count": 25,
      "outputs": [
        {
          "output_type": "stream",
          "name": "stdout",
          "text": [
            "Ç Ç\n"
          ]
        }
      ]
    },
    {
      "cell_type": "markdown",
      "metadata": {
        "id": "eSqDtpATygXn"
      },
      "source": [
        "**Compatibility Equivalence**"
      ]
    },
    {
      "cell_type": "code",
      "metadata": {
        "colab": {
          "base_uri": "https://localhost:8080/"
        },
        "id": "XcMkh7fmyjlv",
        "outputId": "04d5a681-270d-4bd1-e8f5-6c45263ae2a1"
      },
      "source": [
        "\"H\"==\"ℍ\" #Equivalence Reason: Font variant"
      ],
      "execution_count": 31,
      "outputs": [
        {
          "output_type": "execute_result",
          "data": {
            "text/plain": [
              "False"
            ]
          },
          "metadata": {},
          "execution_count": 31
        }
      ]
    },
    {
      "cell_type": "code",
      "metadata": {
        "colab": {
          "base_uri": "https://localhost:8080/"
        },
        "id": "kQpWwhbTzkNI",
        "outputId": "377730f6-f2cd-4ee2-e46f-e6ee77b6b2f4"
      },
      "source": [
        "\"1/2\" == \"𝟙/𝟚\""
      ],
      "execution_count": 32,
      "outputs": [
        {
          "output_type": "execute_result",
          "data": {
            "text/plain": [
              "False"
            ]
          },
          "metadata": {},
          "execution_count": 32
        }
      ]
    },
    {
      "cell_type": "code",
      "metadata": {
        "colab": {
          "base_uri": "https://localhost:8080/"
        },
        "id": "J7GfInzxzy32",
        "outputId": "4b6f5655-82a7-41f8-9604-84f00a6b10f4"
      },
      "source": [
        "\"½\"==\"1/2\" #Equivalence Reason: Fractions"
      ],
      "execution_count": 33,
      "outputs": [
        {
          "output_type": "execute_result",
          "data": {
            "text/plain": [
              "False"
            ]
          },
          "metadata": {},
          "execution_count": 33
        }
      ]
    },
    {
      "cell_type": "code",
      "metadata": {
        "id": "XzJ7OVofz6Vj"
      },
      "source": [
        ""
      ],
      "execution_count": null,
      "outputs": []
    }
  ]
}